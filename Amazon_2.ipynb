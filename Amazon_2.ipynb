{
  "cells": [
    {
      "cell_type": "code",
      "execution_count": null,
      "id": "0b3795fe",
      "metadata": {
        "id": "0b3795fe"
      },
      "outputs": [],
      "source": [
        "import pandas as pd\n",
        "import gensim.downloader\n",
        "import string\n",
        "import re\n",
        "import numpy as np\n",
        "import matplotlib.pyplot as plt\n",
        "\n",
        "from sklearn.model_selection import train_test_split\n",
        "from sklearn.ensemble import RandomForestClassifier\n",
        "from sklearn import metrics\n",
        "from sklearn.metrics import precision_score, recall_score, f1_score, accuracy_score, confusion_matrix\n",
        "from sklearn.utils import resample"
      ]
    },
    {
      "cell_type": "code",
      "execution_count": null,
      "id": "c6051ac7",
      "metadata": {
        "id": "c6051ac7",
        "colab": {
          "base_uri": "https://localhost:8080/"
        },
        "outputId": "9009d4c3-d6cf-4d31-f48b-2d5914dd2c01"
      },
      "outputs": [
        {
          "output_type": "stream",
          "name": "stdout",
          "text": [
            "[==================================================] 100.0% 1662.8/1662.8MB downloaded\n"
          ]
        }
      ],
      "source": [
        "#load w2v\n",
        "w2v = gensim.downloader.load('word2vec-google-news-300')"
      ]
    },
    {
      "cell_type": "code",
      "execution_count": null,
      "id": "fc8814ff",
      "metadata": {
        "id": "fc8814ff",
        "colab": {
          "base_uri": "https://localhost:8080/",
          "height": 206
        },
        "outputId": "bbea7ef6-7c27-4686-a396-93b2b6c59a6e"
      },
      "outputs": [
        {
          "output_type": "execute_result",
          "data": {
            "text/plain": [
              "                                                Text  Score\n",
              "0  The description and photo on this product need...      3\n",
              "1  This was a great book!!!! It is well thought t...      5\n",
              "2  I am a first year teacher, teaching 5th grade....      5\n",
              "3  I got the book at my bookfair at school lookin...      5\n",
              "4  Hi! I'm Martine Redman and I created this puzz...      5"
            ],
            "text/html": [
              "\n",
              "  <div id=\"df-d276895e-04ea-4e4f-abed-eda36337eb85\">\n",
              "    <div class=\"colab-df-container\">\n",
              "      <div>\n",
              "<style scoped>\n",
              "    .dataframe tbody tr th:only-of-type {\n",
              "        vertical-align: middle;\n",
              "    }\n",
              "\n",
              "    .dataframe tbody tr th {\n",
              "        vertical-align: top;\n",
              "    }\n",
              "\n",
              "    .dataframe thead th {\n",
              "        text-align: right;\n",
              "    }\n",
              "</style>\n",
              "<table border=\"1\" class=\"dataframe\">\n",
              "  <thead>\n",
              "    <tr style=\"text-align: right;\">\n",
              "      <th></th>\n",
              "      <th>Text</th>\n",
              "      <th>Score</th>\n",
              "    </tr>\n",
              "  </thead>\n",
              "  <tbody>\n",
              "    <tr>\n",
              "      <th>0</th>\n",
              "      <td>The description and photo on this product need...</td>\n",
              "      <td>3</td>\n",
              "    </tr>\n",
              "    <tr>\n",
              "      <th>1</th>\n",
              "      <td>This was a great book!!!! It is well thought t...</td>\n",
              "      <td>5</td>\n",
              "    </tr>\n",
              "    <tr>\n",
              "      <th>2</th>\n",
              "      <td>I am a first year teacher, teaching 5th grade....</td>\n",
              "      <td>5</td>\n",
              "    </tr>\n",
              "    <tr>\n",
              "      <th>3</th>\n",
              "      <td>I got the book at my bookfair at school lookin...</td>\n",
              "      <td>5</td>\n",
              "    </tr>\n",
              "    <tr>\n",
              "      <th>4</th>\n",
              "      <td>Hi! I'm Martine Redman and I created this puzz...</td>\n",
              "      <td>5</td>\n",
              "    </tr>\n",
              "  </tbody>\n",
              "</table>\n",
              "</div>\n",
              "      <button class=\"colab-df-convert\" onclick=\"convertToInteractive('df-d276895e-04ea-4e4f-abed-eda36337eb85')\"\n",
              "              title=\"Convert this dataframe to an interactive table.\"\n",
              "              style=\"display:none;\">\n",
              "        \n",
              "  <svg xmlns=\"http://www.w3.org/2000/svg\" height=\"24px\"viewBox=\"0 0 24 24\"\n",
              "       width=\"24px\">\n",
              "    <path d=\"M0 0h24v24H0V0z\" fill=\"none\"/>\n",
              "    <path d=\"M18.56 5.44l.94 2.06.94-2.06 2.06-.94-2.06-.94-.94-2.06-.94 2.06-2.06.94zm-11 1L8.5 8.5l.94-2.06 2.06-.94-2.06-.94L8.5 2.5l-.94 2.06-2.06.94zm10 10l.94 2.06.94-2.06 2.06-.94-2.06-.94-.94-2.06-.94 2.06-2.06.94z\"/><path d=\"M17.41 7.96l-1.37-1.37c-.4-.4-.92-.59-1.43-.59-.52 0-1.04.2-1.43.59L10.3 9.45l-7.72 7.72c-.78.78-.78 2.05 0 2.83L4 21.41c.39.39.9.59 1.41.59.51 0 1.02-.2 1.41-.59l7.78-7.78 2.81-2.81c.8-.78.8-2.07 0-2.86zM5.41 20L4 18.59l7.72-7.72 1.47 1.35L5.41 20z\"/>\n",
              "  </svg>\n",
              "      </button>\n",
              "      \n",
              "  <style>\n",
              "    .colab-df-container {\n",
              "      display:flex;\n",
              "      flex-wrap:wrap;\n",
              "      gap: 12px;\n",
              "    }\n",
              "\n",
              "    .colab-df-convert {\n",
              "      background-color: #E8F0FE;\n",
              "      border: none;\n",
              "      border-radius: 50%;\n",
              "      cursor: pointer;\n",
              "      display: none;\n",
              "      fill: #1967D2;\n",
              "      height: 32px;\n",
              "      padding: 0 0 0 0;\n",
              "      width: 32px;\n",
              "    }\n",
              "\n",
              "    .colab-df-convert:hover {\n",
              "      background-color: #E2EBFA;\n",
              "      box-shadow: 0px 1px 2px rgba(60, 64, 67, 0.3), 0px 1px 3px 1px rgba(60, 64, 67, 0.15);\n",
              "      fill: #174EA6;\n",
              "    }\n",
              "\n",
              "    [theme=dark] .colab-df-convert {\n",
              "      background-color: #3B4455;\n",
              "      fill: #D2E3FC;\n",
              "    }\n",
              "\n",
              "    [theme=dark] .colab-df-convert:hover {\n",
              "      background-color: #434B5C;\n",
              "      box-shadow: 0px 1px 3px 1px rgba(0, 0, 0, 0.15);\n",
              "      filter: drop-shadow(0px 1px 2px rgba(0, 0, 0, 0.3));\n",
              "      fill: #FFFFFF;\n",
              "    }\n",
              "  </style>\n",
              "\n",
              "      <script>\n",
              "        const buttonEl =\n",
              "          document.querySelector('#df-d276895e-04ea-4e4f-abed-eda36337eb85 button.colab-df-convert');\n",
              "        buttonEl.style.display =\n",
              "          google.colab.kernel.accessAllowed ? 'block' : 'none';\n",
              "\n",
              "        async function convertToInteractive(key) {\n",
              "          const element = document.querySelector('#df-d276895e-04ea-4e4f-abed-eda36337eb85');\n",
              "          const dataTable =\n",
              "            await google.colab.kernel.invokeFunction('convertToInteractive',\n",
              "                                                     [key], {});\n",
              "          if (!dataTable) return;\n",
              "\n",
              "          const docLinkHtml = 'Like what you see? Visit the ' +\n",
              "            '<a target=\"_blank\" href=https://colab.research.google.com/notebooks/data_table.ipynb>data table notebook</a>'\n",
              "            + ' to learn more about interactive tables.';\n",
              "          element.innerHTML = '';\n",
              "          dataTable['output_type'] = 'display_data';\n",
              "          await google.colab.output.renderOutput(dataTable, element);\n",
              "          const docLink = document.createElement('div');\n",
              "          docLink.innerHTML = docLinkHtml;\n",
              "          element.appendChild(docLink);\n",
              "        }\n",
              "      </script>\n",
              "    </div>\n",
              "  </div>\n",
              "  "
            ]
          },
          "metadata": {},
          "execution_count": 5
        }
      ],
      "source": [
        "# load dataset\n",
        "df = pd.read_csv('/content/amazon.csv')\n",
        "df.head()"
      ]
    },
    {
      "cell_type": "code",
      "execution_count": null,
      "id": "52d65a10",
      "metadata": {
        "colab": {
          "base_uri": "https://localhost:8080/",
          "height": 298
        },
        "id": "52d65a10",
        "outputId": "f54c25ad-6cda-4c58-8e2e-886e07537501"
      },
      "outputs": [
        {
          "output_type": "execute_result",
          "data": {
            "text/plain": [
              "Text(0.5, 1.0, 'Review scores histogram')"
            ]
          },
          "metadata": {},
          "execution_count": 6
        },
        {
          "output_type": "display_data",
          "data": {
            "text/plain": [
              "<Figure size 432x288 with 1 Axes>"
            ],
            "image/png": "[encoded data removed]"
          },
          "metadata": {
            "needs_background": "light"
          }
        }
      ],
      "source": [
        "# preview distribution ## HUGR SKEWNESS\n",
        "plt.hist(df['Score'])\n",
        "plt.title('Review scores histogram')\n"
      ]
    },
    {
      "cell_type": "code",
      "execution_count": null,
      "id": "2454a535",
      "metadata": {
        "id": "2454a535",
        "colab": {
          "base_uri": "https://localhost:8080/"
        },
        "outputId": "836ccdef-78d2-46f7-be8f-66ee9230ef6f"
      },
      "outputs": [
        {
          "output_type": "stream",
          "name": "stdout",
          "text": [
            "(50000, 2)\n",
            "(49357, 2)\n"
          ]
        }
      ],
      "source": [
        "#drop duplicates, they exist!\n",
        "print(df.shape)\n",
        "df_unique = df.drop_duplicates()\n",
        "print(df_unique.shape)"
      ]
    },
    {
      "cell_type": "code",
      "execution_count": null,
      "id": "acd0bd9c",
      "metadata": {
        "colab": {
          "base_uri": "https://localhost:8080/",
          "height": 298
        },
        "id": "acd0bd9c",
        "outputId": "97bd6863-d66b-43ce-873d-c8351341fd2c"
      },
      "outputs": [
        {
          "output_type": "execute_result",
          "data": {
            "text/plain": [
              "Text(0.5, 1.0, 'Unique reviews score histogram')"
            ]
          },
          "metadata": {},
          "execution_count": 8
        },
        {
          "output_type": "display_data",
          "data": {
            "text/plain": [
              "<Figure size 432x288 with 1 Axes>"
            ],
            "image/png": "[encoded data removed]"
          },
          "metadata": {
            "needs_background": "light"
          }
        }
      ],
      "source": [
        "## STIL SKEWED!!\n",
        "plt.hist(df_unique['Score'])\n",
        "plt.title('Unique reviews score histogram')"
      ]
    },
    {
      "cell_type": "code",
      "execution_count": null,
      "id": "e9bc678b",
      "metadata": {
        "colab": {
          "base_uri": "https://localhost:8080/"
        },
        "id": "e9bc678b",
        "outputId": "0354d8c3-6325-497b-cdf7-32ea912a8acc"
      },
      "outputs": [
        {
          "output_type": "stream",
          "name": "stdout",
          "text": [
            "4979 2882 3850 8276 29370\n"
          ]
        }
      ],
      "source": [
        "## total number of examples of each class\n",
        "s1 = df_unique[df_unique['Score']==1].count()[0]\n",
        "s2 = df_unique[df_unique['Score']==2].count()[0]\n",
        "s3 = df_unique[df_unique['Score']==3].count()[0]\n",
        "s4 = df_unique[df_unique['Score']==4].count()[0]\n",
        "s5 = df_unique[df_unique['Score']==5].count()[0]\n",
        "print(s1, s2, s3, s4, s5)"
      ]
    },
    {
      "cell_type": "code",
      "source": [
        "def convert_data(df):\n",
        "\n",
        "  array = []\n",
        "  embeddArray = []\n",
        "\n",
        "  #The array will hold all reviews splited in each word in a 2d array \n",
        "  for review in df['Text']:\n",
        "        \n",
        "    res = re.sub(r'[^\\w\\s]', '', review)\n",
        "    res = res.lower()\n",
        "    array.append(res.split())\n",
        "\n",
        "    #this loop will convert every word into an embedding and will add them for every review\n",
        "  for review in array:\n",
        "\n",
        "    sum = np.zeros((300,))\n",
        "    counter=0\n",
        "    for word in review:\n",
        "      try:\n",
        "        sum += w2v[word]\n",
        "        counter += 1\n",
        "      except:\n",
        "        continue\n",
        "\n",
        "    if counter> 0:\n",
        "      sum = sum / counter\n",
        "    else:\n",
        "      sum = np.zeros((300,))\n",
        "    embeddArray.append(sum)\n",
        "        \n",
        "  return np.array(embeddArray)"
      ],
      "metadata": {
        "id": "am3M6IwMZJEn"
      },
      "id": "am3M6IwMZJEn",
      "execution_count": null,
      "outputs": []
    },
    {
      "cell_type": "code",
      "source": [
        "## SPLIT UNBALANCED DATA\n",
        "train_df, test_df = train_test_split(df_unique, train_size=0.8)\n",
        "X_test = convert_data(test_df)\n",
        "y_test = test_df['Score']\n",
        "\n",
        "# BALANCE TRAIN DATA\n",
        "df_class5 = resample(df_unique[df_unique['Score']==5], \n",
        "                                 replace=False,    # sample without replacement\n",
        "                                 n_samples=5000,     # to match minority class\n",
        "                                 ) # reproducible results\n",
        "df_class4 = resample(df_unique[df_unique['Score']==4], \n",
        "                                 replace=False,    # sample without replacement\n",
        "                                 n_samples=5000,     # to match minority class\n",
        "                                 ) # reproducible results\n",
        "df_class3 = resample(df_unique[df_unique['Score']==3], \n",
        "                                 replace=True,    # sample without replacement\n",
        "                                 n_samples=5000,     # to match minority class\n",
        "                                 ) # reproducible results\n",
        "df_class2 = resample(df_unique[df_unique['Score']==2], \n",
        "                                 replace=True,    # sample without replacement\n",
        "                                 n_samples=5000,     # to match minority class\n",
        "                                 ) # reproducible results\n",
        "df_class1 = resample(df_unique[df_unique['Score']==1], \n",
        "                                 replace=True,    # sample without replacement\n",
        "                                 n_samples=5000,     # to match minority class\n",
        "                                 ) # reproducible results\n",
        "\n",
        "train = pd.concat([df_class1, df_class2, df_class3, df_class4, df_class5])\n",
        "# shuffle data\n",
        "train = train.sample(frac = 1)\n",
        "\n",
        "#convert train data\n",
        "X = convert_data(train)\n",
        "y = train['Score']\n",
        "\n"
      ],
      "metadata": {
        "id": "lyXtItLgWg1D"
      },
      "id": "lyXtItLgWg1D",
      "execution_count": null,
      "outputs": []
    },
    {
      "cell_type": "code",
      "source": [
        "# better now\n",
        "plt.hist(train['Score'])\n",
        "plt.title('Balanced reviews score histogram')"
      ],
      "metadata": {
        "colab": {
          "base_uri": "https://localhost:8080/",
          "height": 298
        },
        "id": "ZKcbCclgYmGH",
        "outputId": "68ab4299-7615-4195-de1f-7126a769229b"
      },
      "id": "ZKcbCclgYmGH",
      "execution_count": null,
      "outputs": [
        {
          "output_type": "execute_result",
          "data": {
            "text/plain": [
              "Text(0.5, 1.0, 'Balanced reviews score histogram')"
            ]
          },
          "metadata": {},
          "execution_count": 13
        },
        {
          "output_type": "display_data",
          "data": {
            "text/plain": [
              "<Figure size 432x288 with 1 Axes>"
            ],
            "image/png": "[encoded data removed]"
          },
          "metadata": {
            "needs_background": "light"
          }
        }
      ]
    },
    {
      "cell_type": "code",
      "source": [
        "# Fitting Random Forest Classification to the Training set\n",
        "classifier = RandomForestClassifier(n_estimators = 400, criterion = 'entropy')\n",
        "classifier.fit(X, y)\n",
        "\n",
        "# Predicting the Test set results\n",
        "y_pred = classifier.predict(X_test)"
      ],
      "metadata": {
        "id": "akHiAkUoILvT"
      },
      "id": "akHiAkUoILvT",
      "execution_count": null,
      "outputs": []
    },
    {
      "cell_type": "code",
      "source": [
        "# Print the precision and recall, among other metrics\n",
        "print(metrics.classification_report(y_test, y_pred, digits=3))"
      ],
      "metadata": {
        "colab": {
          "base_uri": "https://localhost:8080/"
        },
        "id": "QLVli_y2vhcX",
        "outputId": "22da6c8b-1d99-4f30-c402-2bfaa223aa7b"
      },
      "id": "QLVli_y2vhcX",
      "execution_count": null,
      "outputs": [
        {
          "output_type": "stream",
          "name": "stdout",
          "text": [
            "              precision    recall  f1-score   support\n",
            "\n",
            "           1      0.618     0.844     0.714       979\n",
            "           2      0.912     0.830     0.869       564\n",
            "           3      0.876     0.749     0.808       717\n",
            "           4      0.450     0.782     0.571      1716\n",
            "           5      0.915     0.687     0.785      5896\n",
            "\n",
            "    accuracy                          0.732      9872\n",
            "   macro avg      0.754     0.778     0.749      9872\n",
            "weighted avg      0.802     0.732     0.747      9872\n",
            "\n"
          ]
        }
      ]
    },
    {
      "cell_type": "code",
      "source": [
        "# Print the confusion matrix using Matplotlib\n",
        "\n",
        "# The values in the matrix represent 0->1, 1->2, 2->3, 3->4, 4->5\n",
        "\n",
        "conf_matrix = metrics.confusion_matrix(y_test, y_pred)\n",
        "\n",
        "\n",
        "fig, ax = plt.subplots(figsize=(9, 9))\n",
        "ax.matshow(conf_matrix, cmap=plt.cm.Oranges, alpha=0.3)\n",
        "for i in range(conf_matrix.shape[0]):\n",
        "    for j in range(conf_matrix.shape[1]):\n",
        "        ax.text(x=j, y=i,s=conf_matrix[i, j], va='center', ha='center', size='xx-large')\n",
        " \n",
        "plt.xlabel('Predictions', fontsize=18)\n",
        "plt.ylabel('Actuals', fontsize=18)\n",
        "plt.title('Confusion Matrix', fontsize=18)\n",
        "plt.show()"
      ],
      "metadata": {
        "colab": {
          "base_uri": "https://localhost:8080/",
          "height": 587
        },
        "id": "HIrJIX6GdEVi",
        "outputId": "28739bd6-de50-4243-a6dd-c0f913927f55"
      },
      "id": "HIrJIX6GdEVi",
      "execution_count": null,
      "outputs": [
        {
          "output_type": "display_data",
          "data": {
            "text/plain": [
              "<Figure size 648x648 with 1 Axes>"
            ],
            "image/png": "[encoded data removed]"
          },
          "metadata": {
            "needs_background": "light"
          }
        }
      ]
    },
    {
      "cell_type": "code",
      "source": [
        ""
      ],
      "metadata": {
        "id": "NMvgK52qMJBR"
      },
      "id": "NMvgK52qMJBR",
      "execution_count": null,
      "outputs": []
    }
  ],
  "metadata": {
    "kernelspec": {
      "display_name": "Python 3 (ipykernel)",
      "language": "python",
      "name": "python3"
    },
    "language_info": {
      "codemirror_mode": {
        "name": "ipython",
        "version": 3
      },
      "file_extension": ".py",
      "mimetype": "text/x-python",
      "name": "python",
      "nbconvert_exporter": "python",
      "pygments_lexer": "ipython3",
      "version": "3.9.12"
    },
    "colab": {
      "name": "Amazon.ipynb",
      "provenance": []
    }
  },
  "nbformat": 4,
  "nbformat_minor": 5
}